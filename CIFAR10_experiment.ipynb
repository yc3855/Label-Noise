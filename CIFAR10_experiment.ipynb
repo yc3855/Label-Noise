{
  "nbformat": 4,
  "nbformat_minor": 0,
  "metadata": {
    "colab": {
      "name": "CIFAR10_experiment.ipynb",
      "provenance": [],
      "include_colab_link": true
    },
    "kernelspec": {
      "name": "python3",
      "display_name": "Python 3"
    },
    "language_info": {
      "name": "python"
    }
  },
  "cells": [
    {
      "cell_type": "markdown",
      "metadata": {
        "id": "view-in-github",
        "colab_type": "text"
      },
      "source": [
        "<a href=\"https://colab.research.google.com/github/yc3855/Label-Noise/blob/main/CIFAR10_experiment.ipynb\" target=\"_parent\"><img src=\"https://colab.research.google.com/assets/colab-badge.svg\" alt=\"Open In Colab\"/></a>"
      ]
    },
    {
      "cell_type": "code",
      "source": [
        "#loading dataset\n",
        "import tensorflow as tf\n",
        "from tensorflow import keras\n",
        "import numpy as np\n",
        "import matplotlib.pyplot as plt\n",
        "\n",
        "#loading library\n",
        "(X_train, y_train), (X_test, y_test) = keras.datasets.cifar10.load_data()"
      ],
      "metadata": {
        "id": "OewF6ik9MNY3"
      },
      "execution_count": null,
      "outputs": []
    },
    {
      "cell_type": "code",
      "source": [
        "#checking shape\n",
        "X_train.shape, y_train.shape"
      ],
      "metadata": {
        "colab": {
          "base_uri": "https://localhost:8080/"
        },
        "id": "U6nNpEMTMN8c",
        "outputId": "93eef6ec-2bd0-4dc4-ff77-4b31afe6952a"
      },
      "execution_count": null,
      "outputs": [
        {
          "output_type": "execute_result",
          "data": {
            "text/plain": [
              "((50000, 32, 32, 3), (50000, 1))"
            ]
          },
          "metadata": {},
          "execution_count": 34
        }
      ]
    },
    {
      "cell_type": "code",
      "source": [
        "#define label\n",
        "label = ['Airplane', 'Automobile', 'Bird', 'Cat', 'Deer', 'Dog', \n",
        "         'Frog', 'Horse', 'Ship', 'Truck']"
      ],
      "metadata": {
        "id": "5GQ_q2Y8NYuh"
      },
      "execution_count": null,
      "outputs": []
    },
    {
      "cell_type": "code",
      "source": [
        "#plot image no 26 in training data with colorbar\n",
        "plt.figure()\n",
        "plt.imshow(X_train[26])\n",
        "plt.colorbar()"
      ],
      "metadata": {
        "colab": {
          "base_uri": "https://localhost:8080/",
          "height": 284
        },
        "id": "meXRyLoBdxuI",
        "outputId": "bc4b9d38-108f-4918-e5d1-c6532629c7f1"
      },
      "execution_count": null,
      "outputs": [
        {
          "output_type": "execute_result",
          "data": {
            "text/plain": [
              "<matplotlib.colorbar.Colorbar at 0x7f76b8cfe390>"
            ]
          },
          "metadata": {},
          "execution_count": 36
        },
        {
          "output_type": "display_data",
          "data": {
            "text/plain": [
              "<Figure size 432x288 with 2 Axes>"
            ],
            "image/png": "[encoded data removed]"
          },
          "metadata": {
            "needs_background": "light"
          }
        }
      ]
    },
    {
      "cell_type": "code",
      "source": [
        "print(\"Shape of training data:\")\n",
        "print(X_train.shape)\n",
        "print(y_train.shape)\n",
        "print(\"Shape of test data:\")\n",
        "print(X_test.shape)\n",
        "print(y_test.shape)"
      ],
      "metadata": {
        "colab": {
          "base_uri": "https://localhost:8080/"
        },
        "id": "-acRyUafNc-2",
        "outputId": "0f5a1b2f-5f2c-4969-9bbd-b126bed957c2"
      },
      "execution_count": null,
      "outputs": [
        {
          "output_type": "stream",
          "name": "stdout",
          "text": [
            "Shape of training data:\n",
            "(50000, 32, 32, 3)\n",
            "(50000, 1)\n",
            "Shape of test data:\n",
            "(10000, 32, 32, 3)\n",
            "(10000, 1)\n"
          ]
        }
      ]
    },
    {
      "cell_type": "code",
      "source": [
        "# Transform label indices to one-hot encoded vectors\n",
        "\n",
        "y_train = tf.keras.utils.to_categorical(y_train, num_classes=10)\n",
        "y_test = tf.keras.utils.to_categorical(y_test, num_classes=10)\n",
        "\n",
        "# Transform images from (32,32,3) to 3072-dimensional vectors (32*32*3)\n",
        "\n",
        "X_train = np.reshape(X_train,(50000,3072))\n",
        "X_test = np.reshape(X_test,(10000,3072))\n",
        "X_train = X_train.astype('float32')\n",
        "X_test = X_test.astype('float32')\n",
        "\n",
        "# Normalization of pixel values (to [0-1] range)\n",
        "\n",
        "X_train /= 255\n",
        "X_test /= 255"
      ],
      "metadata": {
        "id": "_77SeMD5cH4A"
      },
      "execution_count": null,
      "outputs": []
    },
    {
      "cell_type": "code",
      "source": [
        "print(\"Shape of training data:\")\n",
        "print(X_train.shape)\n",
        "print(y_train.shape)\n",
        "print(\"Shape of test data:\")\n",
        "print(X_test.shape)\n",
        "print(y_test.shape)"
      ],
      "metadata": {
        "colab": {
          "base_uri": "https://localhost:8080/"
        },
        "id": "3arU3yRgeQxg",
        "outputId": "076bde86-414c-4dde-ed44-da166df28a72"
      },
      "execution_count": null,
      "outputs": [
        {
          "output_type": "stream",
          "name": "stdout",
          "text": [
            "Shape of training data:\n",
            "(50000, 3072)\n",
            "(50000, 10)\n",
            "Shape of test data:\n",
            "(10000, 3072)\n",
            "(10000, 10)\n"
          ]
        }
      ]
    },
    {
      "cell_type": "code",
      "source": [
        "#import library\n",
        "from tensorflow.keras import Sequential\n",
        "from tensorflow.keras.layers import Flatten, Dense\n",
        "from tensorflow.keras.layers import BatchNormalization, Conv2D\n",
        "from tensorflow.keras.layers import MaxPool2D, Activation, MaxPooling2D\n",
        "\n",
        "#Build Model\n",
        "# model = Sequential()\n",
        "# model.add(Conv2D(64,activation = 'relu', kernel_size = (3,3)))\n",
        "# model.add(MaxPooling2D(pool_size = (2,2)))\n",
        "# model.add(BatchNormalization())\n",
        "# model.add(Conv2D(32, activation = 'relu', kernel_size = (3,3)))\n",
        "# model.add(BatchNormalization())\n",
        "# model.add(Flatten(input_shape = (32,32,3)))\n",
        "# model.add(Dense(80, activation = 'relu'))\n",
        "# model.add(Dense(10, activation = 'softmax'))\n",
        "\n",
        "# #compliation of model\n",
        "# model.compile(optimizer = 'adam', \n",
        "#               loss = 'sparse_categorical_crossentropy',\n",
        "#               metrics = ['accuracy'])\n",
        "              \n",
        "              \n",
        "# #fit model\n",
        "# history = model.fit(X_train, y_train, epochs=10, verbose=1, \n",
        "#                   validation_split=0.3)"
      ],
      "metadata": {
        "id": "zNeGJHJwNfgm"
      },
      "execution_count": null,
      "outputs": []
    },
    {
      "cell_type": "code",
      "source": [
        "model = Sequential()\n",
        "model.add(Dense(256, activation='relu', input_dim=3072))\n",
        "model.add(Dense(256, activation='relu'))\n",
        "model.add(Dense(256, activation='relu'))\n",
        "model.add(Dense(10, activation='softmax'))\n",
        "#sgd = SGD(lr=0.01, decay=1e-6, momentum=0.9, nesterov=True)\n",
        "\n",
        "model.compile(optimizer='adam',\n",
        "              loss='categorical_crossentropy',\n",
        "              metrics=['accuracy'])"
      ],
      "metadata": {
        "id": "lvSeFZYXYA8-"
      },
      "execution_count": null,
      "outputs": []
    },
    {
      "cell_type": "code",
      "source": [
        "history = model.fit(X_train,y_train, epochs=15, batch_size=32, verbose=2, validation_split=0.2)"
      ],
      "metadata": {
        "colab": {
          "base_uri": "https://localhost:8080/"
        },
        "id": "luUKxjCFQmkQ",
        "outputId": "4f2dc11e-ebc6-4be5-a752-1566375a2743"
      },
      "execution_count": null,
      "outputs": [
        {
          "output_type": "stream",
          "name": "stdout",
          "text": [
            "Epoch 1/15\n",
            "1250/1250 - 12s - loss: 1.8739 - accuracy: 0.3156 - val_loss: 1.7783 - val_accuracy: 0.3606 - 12s/epoch - 10ms/step\n",
            "Epoch 2/15\n",
            "1250/1250 - 12s - loss: 1.7020 - accuracy: 0.3889 - val_loss: 1.6765 - val_accuracy: 0.4016 - 12s/epoch - 9ms/step\n",
            "Epoch 3/15\n",
            "1250/1250 - 12s - loss: 1.6149 - accuracy: 0.4159 - val_loss: 1.6858 - val_accuracy: 0.3913 - 12s/epoch - 9ms/step\n",
            "Epoch 4/15\n",
            "1250/1250 - 11s - loss: 1.5656 - accuracy: 0.4362 - val_loss: 1.6001 - val_accuracy: 0.4258 - 11s/epoch - 9ms/step\n",
            "Epoch 5/15\n",
            "1250/1250 - 11s - loss: 1.5252 - accuracy: 0.4485 - val_loss: 1.5631 - val_accuracy: 0.4404 - 11s/epoch - 9ms/step\n",
            "Epoch 6/15\n",
            "1250/1250 - 11s - loss: 1.4967 - accuracy: 0.4608 - val_loss: 1.5665 - val_accuracy: 0.4387 - 11s/epoch - 9ms/step\n",
            "Epoch 7/15\n",
            "1250/1250 - 11s - loss: 1.4702 - accuracy: 0.4674 - val_loss: 1.5228 - val_accuracy: 0.4566 - 11s/epoch - 9ms/step\n",
            "Epoch 8/15\n",
            "1250/1250 - 11s - loss: 1.4460 - accuracy: 0.4800 - val_loss: 1.5015 - val_accuracy: 0.4598 - 11s/epoch - 9ms/step\n",
            "Epoch 9/15\n",
            "1250/1250 - 11s - loss: 1.4163 - accuracy: 0.4896 - val_loss: 1.5859 - val_accuracy: 0.4388 - 11s/epoch - 9ms/step\n",
            "Epoch 10/15\n",
            "1250/1250 - 11s - loss: 1.3986 - accuracy: 0.4954 - val_loss: 1.5343 - val_accuracy: 0.4602 - 11s/epoch - 9ms/step\n",
            "Epoch 11/15\n",
            "1250/1250 - 11s - loss: 1.3758 - accuracy: 0.5017 - val_loss: 1.5213 - val_accuracy: 0.4615 - 11s/epoch - 9ms/step\n",
            "Epoch 12/15\n",
            "1250/1250 - 11s - loss: 1.3552 - accuracy: 0.5106 - val_loss: 1.4735 - val_accuracy: 0.4780 - 11s/epoch - 9ms/step\n",
            "Epoch 13/15\n",
            "1250/1250 - 11s - loss: 1.3406 - accuracy: 0.5151 - val_loss: 1.5224 - val_accuracy: 0.4647 - 11s/epoch - 9ms/step\n",
            "Epoch 14/15\n",
            "1250/1250 - 11s - loss: 1.3227 - accuracy: 0.5238 - val_loss: 1.5042 - val_accuracy: 0.4724 - 11s/epoch - 9ms/step\n",
            "Epoch 15/15\n",
            "1250/1250 - 11s - loss: 1.3044 - accuracy: 0.5307 - val_loss: 1.5611 - val_accuracy: 0.4553 - 11s/epoch - 9ms/step\n"
          ]
        }
      ]
    },
    {
      "cell_type": "code",
      "source": [
        "#plot losses\n",
        "def plotloss(history):\n",
        "    plt.plot(history.history['loss'])\n",
        "    plt.plot(history.history['val_loss'])\n",
        "    plt.plot(history.history['accuracy'])\n",
        "    plt.title('model loss')\n",
        "    plt.ylabel('loss')\n",
        "    plt.xlabel('epoch')\n",
        "    plt.legend(['train', 'validation', 'accuracy'], loc = 'lower right')\n",
        "    plt.show()\n",
        "    \n",
        "plotloss(history)"
      ],
      "metadata": {
        "colab": {
          "base_uri": "https://localhost:8080/",
          "height": 295
        },
        "id": "d_eWlV58f_ec",
        "outputId": "a68378bb-7539-428a-a57c-d9b25c090fec"
      },
      "execution_count": null,
      "outputs": [
        {
          "output_type": "display_data",
          "data": {
            "text/plain": [
              "<Figure size 432x288 with 1 Axes>"
            ],
            "image/png": "[encoded data removed]"
          },
          "metadata": {
            "needs_background": "light"
          }
        }
      ]
    },
    {
      "cell_type": "code",
      "source": [
        "score = model.evaluate(X_test, y_test, batch_size=128, verbose=0)\n",
        "\n",
        "print(model.metrics_names)\n",
        "print(score)"
      ],
      "metadata": {
        "colab": {
          "base_uri": "https://localhost:8080/"
        },
        "id": "pdq4e454Wrhe",
        "outputId": "8d2af159-c298-4727-aeb8-ac3df92f46e8"
      },
      "execution_count": null,
      "outputs": [
        {
          "output_type": "stream",
          "name": "stdout",
          "text": [
            "['loss', 'accuracy']\n",
            "[1.5498486757278442, 0.4595000147819519]\n"
          ]
        }
      ]
    },
    {
      "cell_type": "code",
      "source": [
        "scores = np.array([])\n",
        "\n",
        "for n in np.arange(2, 20, 2):\n",
        "  model = Sequential()\n",
        "  model.add(Dense(128 * n, activation='relu', input_dim=3072))\n",
        "  model.add(Dense(10, activation='softmax'))\n",
        "  #sgd = SGD(lr=0.01, decay=1e-6, momentum=0.9, nesterov=True)\n",
        "\n",
        "  model.compile(optimizer='adam',\n",
        "                loss='categorical_crossentropy',\n",
        "                metrics=['accuracy'])\n",
        "  \n",
        "  model.fit(X_train,y_train, epochs=10, batch_size=32, verbose=2, validation_split=0.2)\n",
        "\n",
        "  score = model.evaluate(X_test, y_test, batch_size=128, verbose=0)\n",
        "\n",
        "  np.append(scores, score)"
      ],
      "metadata": {
        "colab": {
          "base_uri": "https://localhost:8080/"
        },
        "id": "_gJ5hQrDmncu",
        "outputId": "1d913c66-d226-4607-f717-2b444355149f"
      },
      "execution_count": null,
      "outputs": [
        {
          "output_type": "stream",
          "name": "stdout",
          "text": [
            "Epoch 1/10\n",
            "1250/1250 - 11s - loss: 1.9104 - accuracy: 0.3217 - val_loss: 1.8719 - val_accuracy: 0.3239 - 11s/epoch - 9ms/step\n",
            "Epoch 2/10\n",
            "1250/1250 - 10s - loss: 1.7383 - accuracy: 0.3758 - val_loss: 1.7299 - val_accuracy: 0.3820 - 10s/epoch - 8ms/step\n",
            "Epoch 3/10\n",
            "1250/1250 - 9s - loss: 1.6786 - accuracy: 0.4004 - val_loss: 1.6717 - val_accuracy: 0.4073 - 9s/epoch - 7ms/step\n",
            "Epoch 4/10\n",
            "1250/1250 - 9s - loss: 1.6391 - accuracy: 0.4121 - val_loss: 1.6315 - val_accuracy: 0.4206 - 9s/epoch - 7ms/step\n",
            "Epoch 5/10\n",
            "1250/1250 - 9s - loss: 1.6162 - accuracy: 0.4202 - val_loss: 1.6533 - val_accuracy: 0.4099 - 9s/epoch - 7ms/step\n",
            "Epoch 6/10\n",
            "1250/1250 - 9s - loss: 1.5864 - accuracy: 0.4289 - val_loss: 1.6117 - val_accuracy: 0.4224 - 9s/epoch - 7ms/step\n",
            "Epoch 7/10\n",
            "1250/1250 - 10s - loss: 1.5714 - accuracy: 0.4381 - val_loss: 1.5881 - val_accuracy: 0.4327 - 10s/epoch - 8ms/step\n",
            "Epoch 8/10\n",
            "1250/1250 - 10s - loss: 1.5517 - accuracy: 0.4418 - val_loss: 1.5924 - val_accuracy: 0.4395 - 10s/epoch - 8ms/step\n",
            "Epoch 9/10\n",
            "1250/1250 - 10s - loss: 1.5384 - accuracy: 0.4486 - val_loss: 1.6029 - val_accuracy: 0.4327 - 10s/epoch - 8ms/step\n",
            "Epoch 10/10\n",
            "1250/1250 - 9s - loss: 1.5242 - accuracy: 0.4560 - val_loss: 1.5780 - val_accuracy: 0.4409 - 9s/epoch - 7ms/step\n",
            "Epoch 1/10\n",
            "1250/1250 - 16s - loss: 1.9116 - accuracy: 0.3212 - val_loss: 1.8104 - val_accuracy: 0.3571 - 16s/epoch - 13ms/step\n",
            "Epoch 2/10\n",
            "1250/1250 - 16s - loss: 1.7194 - accuracy: 0.3878 - val_loss: 1.7181 - val_accuracy: 0.3901 - 16s/epoch - 13ms/step\n",
            "Epoch 3/10\n",
            "1250/1250 - 16s - loss: 1.6586 - accuracy: 0.4074 - val_loss: 1.7160 - val_accuracy: 0.3874 - 16s/epoch - 13ms/step\n",
            "Epoch 4/10\n",
            "1250/1250 - 15s - loss: 1.6196 - accuracy: 0.4225 - val_loss: 1.6390 - val_accuracy: 0.4137 - 15s/epoch - 12ms/step\n",
            "Epoch 5/10\n",
            "1250/1250 - 16s - loss: 1.5869 - accuracy: 0.4339 - val_loss: 1.6099 - val_accuracy: 0.4254 - 16s/epoch - 13ms/step\n",
            "Epoch 6/10\n",
            "1250/1250 - 16s - loss: 1.5605 - accuracy: 0.4439 - val_loss: 1.5846 - val_accuracy: 0.4370 - 16s/epoch - 13ms/step\n",
            "Epoch 7/10\n",
            "1250/1250 - 16s - loss: 1.5394 - accuracy: 0.4505 - val_loss: 1.6284 - val_accuracy: 0.4210 - 16s/epoch - 13ms/step\n",
            "Epoch 8/10\n",
            "1250/1250 - 16s - loss: 1.5257 - accuracy: 0.4567 - val_loss: 1.5863 - val_accuracy: 0.4413 - 16s/epoch - 13ms/step\n",
            "Epoch 9/10\n",
            "1250/1250 - 16s - loss: 1.5008 - accuracy: 0.4649 - val_loss: 1.5877 - val_accuracy: 0.4432 - 16s/epoch - 13ms/step\n",
            "Epoch 10/10\n",
            "1250/1250 - 16s - loss: 1.4895 - accuracy: 0.4697 - val_loss: 1.5684 - val_accuracy: 0.4449 - 16s/epoch - 13ms/step\n",
            "Epoch 1/10\n",
            "1250/1250 - 23s - loss: 1.9354 - accuracy: 0.3151 - val_loss: 1.7768 - val_accuracy: 0.3633 - 23s/epoch - 18ms/step\n",
            "Epoch 2/10\n",
            "1250/1250 - 22s - loss: 1.7264 - accuracy: 0.3819 - val_loss: 1.7130 - val_accuracy: 0.3817 - 22s/epoch - 18ms/step\n",
            "Epoch 3/10\n",
            "1250/1250 - 22s - loss: 1.6519 - accuracy: 0.4093 - val_loss: 1.6872 - val_accuracy: 0.4005 - 22s/epoch - 18ms/step\n",
            "Epoch 4/10\n",
            "1250/1250 - 22s - loss: 1.6025 - accuracy: 0.4280 - val_loss: 1.6571 - val_accuracy: 0.4113 - 22s/epoch - 18ms/step\n",
            "Epoch 5/10\n",
            "1250/1250 - 22s - loss: 1.5673 - accuracy: 0.4411 - val_loss: 1.5908 - val_accuracy: 0.4364 - 22s/epoch - 18ms/step\n",
            "Epoch 6/10\n",
            "1250/1250 - 22s - loss: 1.5398 - accuracy: 0.4522 - val_loss: 1.5507 - val_accuracy: 0.4563 - 22s/epoch - 18ms/step\n",
            "Epoch 7/10\n",
            "1250/1250 - 22s - loss: 1.5192 - accuracy: 0.4620 - val_loss: 1.5792 - val_accuracy: 0.4423 - 22s/epoch - 18ms/step\n",
            "Epoch 8/10\n",
            "1250/1250 - 22s - loss: 1.5009 - accuracy: 0.4670 - val_loss: 1.5803 - val_accuracy: 0.4384 - 22s/epoch - 18ms/step\n",
            "Epoch 9/10\n",
            "1250/1250 - 22s - loss: 1.4845 - accuracy: 0.4730 - val_loss: 1.5388 - val_accuracy: 0.4552 - 22s/epoch - 18ms/step\n",
            "Epoch 10/10\n",
            "1250/1250 - 22s - loss: 1.4724 - accuracy: 0.4739 - val_loss: 1.5798 - val_accuracy: 0.4416 - 22s/epoch - 18ms/step\n",
            "Epoch 1/10\n",
            "1250/1250 - 28s - loss: 1.9236 - accuracy: 0.3180 - val_loss: 1.7925 - val_accuracy: 0.3497 - 28s/epoch - 23ms/step\n",
            "Epoch 2/10\n",
            "1250/1250 - 28s - loss: 1.7097 - accuracy: 0.3854 - val_loss: 1.7063 - val_accuracy: 0.3926 - 28s/epoch - 22ms/step\n",
            "Epoch 3/10\n",
            "1250/1250 - 28s - loss: 1.6430 - accuracy: 0.4140 - val_loss: 1.6472 - val_accuracy: 0.4108 - 28s/epoch - 22ms/step\n",
            "Epoch 4/10\n",
            "1250/1250 - 28s - loss: 1.6001 - accuracy: 0.4311 - val_loss: 1.6495 - val_accuracy: 0.4177 - 28s/epoch - 22ms/step\n",
            "Epoch 5/10\n",
            "1250/1250 - 28s - loss: 1.5663 - accuracy: 0.4411 - val_loss: 1.5942 - val_accuracy: 0.4411 - 28s/epoch - 22ms/step\n",
            "Epoch 6/10\n",
            "1250/1250 - 28s - loss: 1.5451 - accuracy: 0.4503 - val_loss: 1.6566 - val_accuracy: 0.4184 - 28s/epoch - 22ms/step\n",
            "Epoch 7/10\n",
            "1250/1250 - 28s - loss: 1.5219 - accuracy: 0.4588 - val_loss: 1.5820 - val_accuracy: 0.4453 - 28s/epoch - 22ms/step\n",
            "Epoch 8/10\n",
            "1250/1250 - 28s - loss: 1.5049 - accuracy: 0.4658 - val_loss: 1.5755 - val_accuracy: 0.4409 - 28s/epoch - 22ms/step\n",
            "Epoch 9/10\n",
            "1250/1250 - 28s - loss: 1.4823 - accuracy: 0.4710 - val_loss: 1.5550 - val_accuracy: 0.4536 - 28s/epoch - 22ms/step\n",
            "Epoch 10/10\n",
            "1250/1250 - 28s - loss: 1.4624 - accuracy: 0.4799 - val_loss: 1.5278 - val_accuracy: 0.4671 - 28s/epoch - 22ms/step\n",
            "Epoch 1/10\n",
            "1250/1250 - 37s - loss: 1.9148 - accuracy: 0.3188 - val_loss: 1.7796 - val_accuracy: 0.3542 - 37s/epoch - 29ms/step\n",
            "Epoch 2/10\n",
            "1250/1250 - 36s - loss: 1.7076 - accuracy: 0.3889 - val_loss: 1.6701 - val_accuracy: 0.4038 - 36s/epoch - 29ms/step\n",
            "Epoch 3/10\n",
            "1250/1250 - 36s - loss: 1.6329 - accuracy: 0.4187 - val_loss: 1.6547 - val_accuracy: 0.4188 - 36s/epoch - 29ms/step\n",
            "Epoch 4/10\n",
            "1250/1250 - 37s - loss: 1.5834 - accuracy: 0.4349 - val_loss: 1.5960 - val_accuracy: 0.4403 - 37s/epoch - 29ms/step\n",
            "Epoch 5/10\n",
            "1250/1250 - 36s - loss: 1.5526 - accuracy: 0.4460 - val_loss: 1.5966 - val_accuracy: 0.4275 - 36s/epoch - 29ms/step\n",
            "Epoch 6/10\n",
            "1250/1250 - 36s - loss: 1.5215 - accuracy: 0.4611 - val_loss: 1.6048 - val_accuracy: 0.4346 - 36s/epoch - 29ms/step\n",
            "Epoch 7/10\n",
            "1250/1250 - 36s - loss: 1.5044 - accuracy: 0.4673 - val_loss: 1.6107 - val_accuracy: 0.4331 - 36s/epoch - 29ms/step\n",
            "Epoch 8/10\n",
            "1250/1250 - 36s - loss: 1.4788 - accuracy: 0.4737 - val_loss: 1.5276 - val_accuracy: 0.4650 - 36s/epoch - 29ms/step\n",
            "Epoch 9/10\n",
            "1250/1250 - 36s - loss: 1.4740 - accuracy: 0.4757 - val_loss: 1.5329 - val_accuracy: 0.4567 - 36s/epoch - 29ms/step\n",
            "Epoch 10/10\n",
            "1250/1250 - 36s - loss: 1.4507 - accuracy: 0.4812 - val_loss: 1.5585 - val_accuracy: 0.4518 - 36s/epoch - 29ms/step\n",
            "Epoch 1/10\n",
            "1250/1250 - 44s - loss: 1.9423 - accuracy: 0.3243 - val_loss: 1.7651 - val_accuracy: 0.3594 - 44s/epoch - 36ms/step\n",
            "Epoch 2/10\n",
            "1250/1250 - 42s - loss: 1.7113 - accuracy: 0.3868 - val_loss: 1.6907 - val_accuracy: 0.3982 - 42s/epoch - 34ms/step\n",
            "Epoch 3/10\n",
            "1250/1250 - 46s - loss: 1.6373 - accuracy: 0.4157 - val_loss: 1.6917 - val_accuracy: 0.4030 - 46s/epoch - 37ms/step\n",
            "Epoch 4/10\n",
            "1250/1250 - 46s - loss: 1.5879 - accuracy: 0.4331 - val_loss: 1.6089 - val_accuracy: 0.4270 - 46s/epoch - 36ms/step\n",
            "Epoch 5/10\n",
            "1250/1250 - 44s - loss: 1.5521 - accuracy: 0.4446 - val_loss: 1.6484 - val_accuracy: 0.4209 - 44s/epoch - 35ms/step\n",
            "Epoch 6/10\n",
            "1250/1250 - 45s - loss: 1.5260 - accuracy: 0.4565 - val_loss: 1.5815 - val_accuracy: 0.4387 - 45s/epoch - 36ms/step\n",
            "Epoch 7/10\n",
            "1250/1250 - 46s - loss: 1.5105 - accuracy: 0.4602 - val_loss: 1.5607 - val_accuracy: 0.4477 - 46s/epoch - 37ms/step\n",
            "Epoch 8/10\n",
            "1250/1250 - 45s - loss: 1.4871 - accuracy: 0.4697 - val_loss: 1.5611 - val_accuracy: 0.4450 - 45s/epoch - 36ms/step\n",
            "Epoch 9/10\n",
            "1250/1250 - 45s - loss: 1.4718 - accuracy: 0.4726 - val_loss: 1.5745 - val_accuracy: 0.4408 - 45s/epoch - 36ms/step\n",
            "Epoch 10/10\n",
            "1250/1250 - 45s - loss: 1.4554 - accuracy: 0.4830 - val_loss: 1.5383 - val_accuracy: 0.4558 - 45s/epoch - 36ms/step\n",
            "Epoch 1/10\n",
            "1250/1250 - 46s - loss: 1.9329 - accuracy: 0.3250 - val_loss: 1.7848 - val_accuracy: 0.3486 - 46s/epoch - 37ms/step\n",
            "Epoch 2/10\n",
            "1250/1250 - 45s - loss: 1.7022 - accuracy: 0.3893 - val_loss: 1.7042 - val_accuracy: 0.3979 - 45s/epoch - 36ms/step\n",
            "Epoch 3/10\n",
            "1250/1250 - 45s - loss: 1.6322 - accuracy: 0.4168 - val_loss: 1.6840 - val_accuracy: 0.3968 - 45s/epoch - 36ms/step\n",
            "Epoch 4/10\n",
            "1250/1250 - 45s - loss: 1.5937 - accuracy: 0.4311 - val_loss: 1.6223 - val_accuracy: 0.4241 - 45s/epoch - 36ms/step\n",
            "Epoch 5/10\n",
            "1250/1250 - 45s - loss: 1.5510 - accuracy: 0.4489 - val_loss: 1.5889 - val_accuracy: 0.4421 - 45s/epoch - 36ms/step\n",
            "Epoch 6/10\n",
            "1250/1250 - 45s - loss: 1.5320 - accuracy: 0.4577 - val_loss: 1.5632 - val_accuracy: 0.4522 - 45s/epoch - 36ms/step\n",
            "Epoch 7/10\n",
            "1250/1250 - 45s - loss: 1.5091 - accuracy: 0.4619 - val_loss: 1.5945 - val_accuracy: 0.4423 - 45s/epoch - 36ms/step\n",
            "Epoch 8/10\n",
            "1250/1250 - 45s - loss: 1.4888 - accuracy: 0.4701 - val_loss: 1.5487 - val_accuracy: 0.4565 - 45s/epoch - 36ms/step\n",
            "Epoch 9/10\n",
            "1250/1250 - 45s - loss: 1.4741 - accuracy: 0.4726 - val_loss: 1.5948 - val_accuracy: 0.4438 - 45s/epoch - 36ms/step\n",
            "Epoch 10/10\n",
            "1250/1250 - 45s - loss: 1.4576 - accuracy: 0.4805 - val_loss: 1.5459 - val_accuracy: 0.4555 - 45s/epoch - 36ms/step\n",
            "Epoch 1/10\n",
            "1250/1250 - 50s - loss: 1.9667 - accuracy: 0.3209 - val_loss: 1.8101 - val_accuracy: 0.3374 - 50s/epoch - 40ms/step\n",
            "Epoch 2/10\n",
            "1250/1250 - 49s - loss: 1.7128 - accuracy: 0.3875 - val_loss: 1.6869 - val_accuracy: 0.3978 - 49s/epoch - 39ms/step\n",
            "Epoch 3/10\n",
            "1250/1250 - 49s - loss: 1.6400 - accuracy: 0.4164 - val_loss: 1.6371 - val_accuracy: 0.4275 - 49s/epoch - 39ms/step\n",
            "Epoch 4/10\n",
            "1250/1250 - 49s - loss: 1.5952 - accuracy: 0.4285 - val_loss: 1.6383 - val_accuracy: 0.4177 - 49s/epoch - 39ms/step\n",
            "Epoch 5/10\n",
            "1250/1250 - 49s - loss: 1.5602 - accuracy: 0.4442 - val_loss: 1.6188 - val_accuracy: 0.4174 - 49s/epoch - 39ms/step\n",
            "Epoch 6/10\n",
            "1250/1250 - 49s - loss: 1.5317 - accuracy: 0.4541 - val_loss: 1.6070 - val_accuracy: 0.4337 - 49s/epoch - 39ms/step\n",
            "Epoch 7/10\n",
            "1250/1250 - 49s - loss: 1.5103 - accuracy: 0.4618 - val_loss: 1.5683 - val_accuracy: 0.4413 - 49s/epoch - 39ms/step\n",
            "Epoch 8/10\n",
            "1250/1250 - 49s - loss: 1.4942 - accuracy: 0.4677 - val_loss: 1.5350 - val_accuracy: 0.4650 - 49s/epoch - 39ms/step\n",
            "Epoch 9/10\n",
            "1250/1250 - 49s - loss: 1.4693 - accuracy: 0.4737 - val_loss: 1.5713 - val_accuracy: 0.4532 - 49s/epoch - 39ms/step\n",
            "Epoch 10/10\n",
            "1250/1250 - 49s - loss: 1.4524 - accuracy: 0.4828 - val_loss: 1.5346 - val_accuracy: 0.4636 - 49s/epoch - 39ms/step\n",
            "Epoch 1/10\n",
            "1250/1250 - 57s - loss: 1.9438 - accuracy: 0.3235 - val_loss: 1.7451 - val_accuracy: 0.3777 - 57s/epoch - 46ms/step\n",
            "Epoch 2/10\n",
            "1250/1250 - 56s - loss: 1.7059 - accuracy: 0.3893 - val_loss: 1.6851 - val_accuracy: 0.4103 - 56s/epoch - 45ms/step\n",
            "Epoch 3/10\n",
            "1250/1250 - 56s - loss: 1.6354 - accuracy: 0.4187 - val_loss: 1.6364 - val_accuracy: 0.4163 - 56s/epoch - 45ms/step\n",
            "Epoch 4/10\n",
            "1250/1250 - 56s - loss: 1.5775 - accuracy: 0.4365 - val_loss: 1.5994 - val_accuracy: 0.4344 - 56s/epoch - 45ms/step\n",
            "Epoch 5/10\n",
            "1250/1250 - 56s - loss: 1.5418 - accuracy: 0.4527 - val_loss: 1.5796 - val_accuracy: 0.4376 - 56s/epoch - 45ms/step\n",
            "Epoch 6/10\n",
            "1250/1250 - 56s - loss: 1.5198 - accuracy: 0.4585 - val_loss: 1.5342 - val_accuracy: 0.4574 - 56s/epoch - 45ms/step\n",
            "Epoch 7/10\n",
            "1250/1250 - 56s - loss: 1.4966 - accuracy: 0.4663 - val_loss: 1.5635 - val_accuracy: 0.4437 - 56s/epoch - 45ms/step\n",
            "Epoch 8/10\n",
            "1250/1250 - 56s - loss: 1.4722 - accuracy: 0.4769 - val_loss: 1.5751 - val_accuracy: 0.4443 - 56s/epoch - 45ms/step\n",
            "Epoch 9/10\n",
            "1250/1250 - 55s - loss: 1.4553 - accuracy: 0.4818 - val_loss: 1.5370 - val_accuracy: 0.4579 - 55s/epoch - 44ms/step\n",
            "Epoch 10/10\n",
            "1250/1250 - 55s - loss: 1.4429 - accuracy: 0.4837 - val_loss: 1.5495 - val_accuracy: 0.4638 - 55s/epoch - 44ms/step\n"
          ]
        }
      ]
    },
    {
      "cell_type": "code",
      "source": [
        "np.append(scores, [1,2])"
      ],
      "metadata": {
        "colab": {
          "base_uri": "https://localhost:8080/"
        },
        "id": "nytIcThunB5j",
        "outputId": "daa70b2a-0b4b-44f9-a262-45961a2360ee"
      },
      "execution_count": null,
      "outputs": [
        {
          "output_type": "execute_result",
          "data": {
            "text/plain": [
              "array([1., 2.])"
            ]
          },
          "metadata": {},
          "execution_count": 60
        }
      ]
    },
    {
      "cell_type": "code",
      "source": [
        "score"
      ],
      "metadata": {
        "colab": {
          "base_uri": "https://localhost:8080/"
        },
        "id": "2exS6qQd9QY6",
        "outputId": "883a20a4-5915-4f76-8d0b-e6e8271b9a40"
      },
      "execution_count": null,
      "outputs": [
        {
          "output_type": "execute_result",
          "data": {
            "text/plain": [
              "[1.533383846282959, 0.4632999897003174]"
            ]
          },
          "metadata": {},
          "execution_count": 61
        }
      ]
    },
    {
      "cell_type": "code",
      "source": [
        "np.append(scores, score)"
      ],
      "metadata": {
        "id": "LU8tWWOm9gTa",
        "outputId": "e40b1814-3a2d-4ecd-96d4-24437a470551",
        "colab": {
          "base_uri": "https://localhost:8080/"
        }
      },
      "execution_count": null,
      "outputs": [
        {
          "output_type": "execute_result",
          "data": {
            "text/plain": [
              "array([1.53338385, 0.46329999])"
            ]
          },
          "metadata": {},
          "execution_count": 62
        }
      ]
    },
    {
      "cell_type": "code",
      "source": [
        ""
      ],
      "metadata": {
        "id": "ICASY-hz9ifA"
      },
      "execution_count": null,
      "outputs": []
    }
  ]
}